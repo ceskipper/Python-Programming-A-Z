{
 "cells": [
  {
   "cell_type": "code",
   "execution_count": 21,
   "metadata": {},
   "outputs": [
    {
     "name": "stdout",
     "output_type": "stream",
     "text": [
      "0.68281\n"
     ]
    }
   ],
   "source": [
    "import numpy as np\n",
    "from numpy.random import randn\n",
    "N = 100000                                        #specify sample size\n",
    "counter = 0                                       #reset counter\n",
    "for i in randn(N):                                #iterate over random values\n",
    "    if i > -1 and i < 1:                          #check where iterated variable falls\n",
    "        counter = counter + 1                     #increase counter if condition is met\n",
    "answer = counter / N                              #calculate hit-ratio\n",
    "print(answer)                                     #print answer"
   ]
  },
  {
   "cell_type": "code",
   "execution_count": null,
   "metadata": {},
   "outputs": [],
   "source": []
  }
 ],
 "metadata": {
  "kernelspec": {
   "display_name": "Python 3",
   "language": "python",
   "name": "python3"
  },
  "language_info": {
   "codemirror_mode": {
    "name": "ipython",
    "version": 3
   },
   "file_extension": ".py",
   "mimetype": "text/x-python",
   "name": "python",
   "nbconvert_exporter": "python",
   "pygments_lexer": "ipython3",
   "version": "3.8.5"
  }
 },
 "nbformat": 4,
 "nbformat_minor": 4
}
